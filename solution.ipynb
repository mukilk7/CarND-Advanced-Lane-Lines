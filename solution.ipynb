{
 "cells": [
  {
   "cell_type": "markdown",
   "metadata": {},
   "source": [
    "## Advanced Lane Finding Project\n",
    "\n",
    "The goals / steps of this project are the following:\n",
    "\n",
    "* Compute the camera calibration matrix and distortion coefficients given a set of chessboard images.\n",
    "* Apply a distortion correction to raw images.\n",
    "* Use color transforms, gradients, etc., to create a thresholded binary image.\n",
    "* Apply a perspective transform to rectify binary image (\"birds-eye view\").\n",
    "* Detect lane pixels and fit to find the lane boundary.\n",
    "* Determine the curvature of the lane and vehicle position with respect to center.\n",
    "* Warp the detected lane boundaries back onto the original image.\n",
    "* Output visual display of the lane boundaries and numerical estimation of lane curvature and vehicle position.\n"
   ]
  },
  {
   "cell_type": "code",
   "execution_count": null,
   "metadata": {
    "collapsed": false
   },
   "outputs": [],
   "source": [
    "import numpy as np\n",
    "import cv2\n",
    "import glob\n",
    "import os\n",
    "import matplotlib.pyplot as plt\n",
    "import matplotlib.image as mpimg\n",
    "%matplotlib inline"
   ]
  },
  {
   "cell_type": "code",
   "execution_count": null,
   "metadata": {
    "collapsed": true
   },
   "outputs": [],
   "source": [
    "### Helper Functions\n",
    "\n",
    "def plotImageFiles(filenames):\n",
    "    for f in filenames:\n",
    "        fig = plt.figure()\n",
    "        fig.set_size_inches(3,6)\n",
    "        img = mpimg.imread(f)\n",
    "        plt.title(f)\n",
    "        plt.axis('off')\n",
    "        plt.imshow(img)\n",
    "        \n",
    "def plotImage(img, title):\n",
    "    fig = plt.figure()\n",
    "    fig.set_size_inches(3,6)\n",
    "    plt.title(title)\n",
    "    plt.axis('off')\n",
    "    plt.imshow(img)"
   ]
  },
  {
   "cell_type": "code",
   "execution_count": null,
   "metadata": {
    "collapsed": false
   },
   "outputs": [],
   "source": [
    "### Camera Calibration\n",
    "\n",
    "def calibrateCamera():\n",
    "    imfiles = glob.glob('camera_cal/calibration*.jpg')\n",
    "    nx = 9\n",
    "    ny = 6\n",
    "    #3d real world points\n",
    "    objPoints = []\n",
    "    #2d camera image points\n",
    "    imgPoints = []\n",
    "    #Corners returned by findChessboardCorners contains corners \n",
    "    #going left to right and then down. So we have to generate the\n",
    "    #idealized objpoint to go in the same direction. We also assume\n",
    "    #that the z-axis is 0 in the objpoint i.e., the image is placed\n",
    "    #on a 2d plane\n",
    "    objpoint = np.zeros((nx*ny, 3), np.float32)\n",
    "    objpoint[:,:2] = np.mgrid[0:nx, 0:ny].T.reshape(-1, 2)\n",
    "    for imfile in imfiles:\n",
    "        img = cv2.imread(imfile)\n",
    "        print(imfile)\n",
    "        gray = cv2.cvtColor(img, cv2.COLOR_BGR2GRAY)\n",
    "        ret, corners = cv2.findChessboardCorners(gray, (nx,ny), None)\n",
    "        if ret:\n",
    "            imgPoints.append(corners)\n",
    "            objPoints.append(objpoint)\n",
    "    #ret, mtx, dist, rvecs, tvecs\n",
    "    return cv2.calibrateCamera(objPoints, imgPoints, (gray.shape[1], gray.shape[0]), None, None)\n",
    " \n",
    "def plotUndistortedImages():\n",
    "    imfiles = glob.glob('camera_cal/calibration*.jpg')\n",
    "    ret, mtx, dist, rvecs, tvecs = calibrateCamera()\n",
    "    for imfile in imfiles:\n",
    "        img = cv2.imread(imfile)\n",
    "        dst = cv2.undistort(img, mtx, dist, None, mtx)\n",
    "        fig = plt.figure()\n",
    "        fig.add_subplot(1, 2, 1)\n",
    "        #plt.axis('off')\n",
    "        plt.imshow(img)\n",
    "        fig.add_subplot(1, 2, 2)\n",
    "        plt.imshow(dst)\n",
    "        \n",
    "plotUndistortedImages()"
   ]
  },
  {
   "cell_type": "code",
   "execution_count": null,
   "metadata": {
    "collapsed": true
   },
   "outputs": [],
   "source": []
  }
 ],
 "metadata": {
  "anaconda-cloud": {},
  "kernelspec": {
   "display_name": "Python 3",
   "language": "python",
   "name": "python3"
  },
  "language_info": {
   "codemirror_mode": {
    "name": "ipython",
    "version": 3
   },
   "file_extension": ".py",
   "mimetype": "text/x-python",
   "name": "python",
   "nbconvert_exporter": "python",
   "pygments_lexer": "ipython3",
   "version": "3.5.2"
  },
  "widgets": {
   "state": {},
   "version": "1.1.2"
  }
 },
 "nbformat": 4,
 "nbformat_minor": 1
}
